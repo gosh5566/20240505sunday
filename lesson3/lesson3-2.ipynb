{
 "cells": [
  {
   "cell_type": "code",
   "execution_count": 14,
   "metadata": {},
   "outputs": [
    {
     "name": "stdout",
     "output_type": "stream",
     "text": [
      "輸入的半徑為: 100.0，圓面積為: 31415.93\n"
     ]
    }
   ],
   "source": [
    "import math\n",
    "\n",
    "radius = float(input(\"請輸入半徑: \"))\n",
    "area = math.pi * radius**2\n",
    "print(f\"輸入的半徑為: {radius}，圓面積為: {round(area, ndigits=2)}\")"
   ]
  },
  {
   "cell_type": "code",
   "execution_count": 16,
   "metadata": {},
   "outputs": [
    {
     "name": "stdout",
     "output_type": "stream",
     "text": [
      "對邊:47,斜邊:51.5,角度是65.87\n"
     ]
    }
   ],
   "source": [
    "import math\n",
    "side = 47\n",
    "another_side=51.5\n",
    "\n",
    "radian=math.asin(side/another_side)\n",
    "degree=math.degrees(radian)\n",
    "print(f\"對邊:{side},斜邊:{another_side},角度是{round(degree,ndigits=2)}\")\n",
    "\n"
   ]
  }
 ],
 "metadata": {
  "kernelspec": {
   "display_name": "Python 3",
   "language": "python",
   "name": "python3"
  },
  "language_info": {
   "codemirror_mode": {
    "name": "ipython",
    "version": 3
   },
   "file_extension": ".py",
   "mimetype": "text/x-python",
   "name": "python",
   "nbconvert_exporter": "python",
   "pygments_lexer": "ipython3",
   "version": "3.10.13"
  }
 },
 "nbformat": 4,
 "nbformat_minor": 2
}
